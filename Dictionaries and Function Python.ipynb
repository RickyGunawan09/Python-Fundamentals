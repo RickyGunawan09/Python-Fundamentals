{
  "nbformat": 4,
  "nbformat_minor": 0,
  "metadata": {
    "colab": {
      "name": "assignment3.ipynb",
      "provenance": [],
      "collapsed_sections": []
    },
    "kernelspec": {
      "name": "python3",
      "display_name": "Python 3"
    }
  },
  "cells": [
    {
      "cell_type": "code",
      "metadata": {
        "id": "z1y2jk552pVV",
        "colab_type": "code",
        "colab": {
          "base_uri": "https://localhost:8080/",
          "height": 85
        },
        "outputId": "d71317f9-bb86-4a10-a52c-77947f314430"
      },
      "source": [
        "from statistics import mean\n",
        "\n",
        "array_of_dictionaries = [{\n",
        "    \"name\": \"Budi\",\n",
        "    \"age\": 10,\n",
        "    \"test_scores\": [100.0, 98.0, 89.0]\n",
        "},\n",
        "{\n",
        "    \"name\": \"Charlie\",\n",
        "    \"age\": 12,\n",
        "    \"test_scores\": [90.0, 100.0]\n",
        "}]\n",
        "\n",
        "print(\"\\nNo.1\")\n",
        "def get_student_average(dictionary_list):\n",
        "  avg=0\n",
        "  name=\"\"\n",
        "  age=\"\"\n",
        "  for element in dictionary_list:\n",
        "    #print(element)\n",
        "    for atribut in element:\n",
        "      #print(atribut)\n",
        "      if atribut=='name':\n",
        "        name=element[atribut]\n",
        "      if atribut=='age':\n",
        "        age=element[atribut]\n",
        "      if atribut=='test_scores':\n",
        "        avg=round(mean(element[atribut]),2)\n",
        "    print(\"Pelajar \",name,\" dengan umur \",age,\" mendapatkan nilai rata-rata \",avg)\n",
        "  \n",
        "  return\n",
        "\n",
        "get_student_average(array_of_dictionaries)"
      ],
      "execution_count": 52,
      "outputs": [
        {
          "output_type": "stream",
          "text": [
            "\n",
            "No.1\n",
            "Pelajar  Budi  dengan umur  10  mendapatkan nilai rata-rata  95.67\n",
            "Pelajar  Charlie  dengan umur  12  mendapatkan nilai rata-rata  95.0\n"
          ],
          "name": "stdout"
        }
      ]
    },
    {
      "cell_type": "code",
      "metadata": {
        "id": "lj9WE9bf8rlF",
        "colab_type": "code",
        "colab": {
          "base_uri": "https://localhost:8080/",
          "height": 85
        },
        "outputId": "cd30b550-51a4-49e6-e312-6e07fd30c666"
      },
      "source": [
        "print(\"\\nNo.2\")\n",
        "def get_student_min_score(dictionary_list):\n",
        "  minn=0\n",
        "  name=\"\"\n",
        "  age=\"\"\n",
        "  for element in dictionary_list:\n",
        "    #print(element)\n",
        "    for atribut in element:\n",
        "      if atribut=='name':\n",
        "        name=element[atribut]\n",
        "      if atribut=='age':\n",
        "        age=element[atribut]\n",
        "      if atribut=='test_scores':\n",
        "        #print(element[atribut])\n",
        "        minn = min(element[atribut])\n",
        "    print(\"Pelajar \",name,\" dengan umur \",age,\" mendapatkan nilai terkecil \",minn)\n",
        " \n",
        "  return\n",
        "\n",
        "get_student_min_score(array_of_dictionaries)"
      ],
      "execution_count": 53,
      "outputs": [
        {
          "output_type": "stream",
          "text": [
            "\n",
            "No.2\n",
            "Pelajar  Budi  dengan umur  10  mendapatkan nilai terkecil  89.0\n",
            "Pelajar  Charlie  dengan umur  12  mendapatkan nilai terkecil  90.0\n"
          ],
          "name": "stdout"
        }
      ]
    },
    {
      "cell_type": "code",
      "metadata": {
        "id": "R9yUMU7g9wNa",
        "colab_type": "code",
        "colab": {
          "base_uri": "https://localhost:8080/",
          "height": 85
        },
        "outputId": "081a2e5d-d31f-4e60-e393-dba82dba425a"
      },
      "source": [
        "print(\"\\nNo.3\")\n",
        "def get_student_max_score(dictionary_list):\n",
        "  maxx=0\n",
        "  name=\"\"\n",
        "  age=\"\"\n",
        "  for element in dictionary_list:\n",
        "    #print(element)\n",
        "    for atribut in element:\n",
        "      if atribut=='name':\n",
        "        name=element[atribut]\n",
        "      if atribut=='age':\n",
        "        age=element[atribut]\n",
        "      if atribut=='test_scores':\n",
        "        #print(element[atribut])\n",
        "        maxx = max(element[atribut])\n",
        "    print(\"Pelajar \",name,\" dengan umur \",age,\" mendapatkan nilai terbesar \",maxx)\n",
        " \n",
        "  return\n",
        "\n",
        "get_student_max_score(array_of_dictionaries)"
      ],
      "execution_count": 54,
      "outputs": [
        {
          "output_type": "stream",
          "text": [
            "\n",
            "No.3\n",
            "Pelajar  Budi  dengan umur  10  mendapatkan nilai terbesar  100.0\n",
            "Pelajar  Charlie  dengan umur  12  mendapatkan nilai terbesar  100.0\n"
          ],
          "name": "stdout"
        }
      ]
    },
    {
      "cell_type": "code",
      "metadata": {
        "id": "2q5XcifcBzx7",
        "colab_type": "code",
        "colab": {
          "base_uri": "https://localhost:8080/",
          "height": 68
        },
        "outputId": "ceaaec86-f093-4f1f-b8c9-81efeebb8d1c"
      },
      "source": [
        "print(\"\\nNo.4\")\n",
        "def get_max_score_by_student(dictionary_list,student_name):\n",
        "  maxx=0\n",
        "  name=\"\"\n",
        "  age=\"\"\n",
        "  for element in dictionary_list:\n",
        "    #print(element)\n",
        "    for atribut in element:\n",
        "      if atribut=='name':\n",
        "        name=element[atribut]\n",
        "      if atribut=='age':\n",
        "        age=element[atribut]\n",
        "      if atribut=='test_scores' and name== student_name:\n",
        "        #print(element[atribut])\n",
        "        maxx = max(element[atribut])\n",
        "      else:\n",
        "        continue\n",
        "        \n",
        "      print(\"Pelajar \",name,\" dengan umur \",age,\" mendapatkan nilai terbesar \",maxx)\n",
        "  \n",
        "  return\n",
        "\n",
        "get_max_score_by_student(array_of_dictionaries,\"Charlie\")"
      ],
      "execution_count": 55,
      "outputs": [
        {
          "output_type": "stream",
          "text": [
            "\n",
            "No.4\n",
            "Pelajar  Charlie  dengan umur  12  mendapatkan nilai terbesar  100.0\n"
          ],
          "name": "stdout"
        }
      ]
    },
    {
      "cell_type": "code",
      "metadata": {
        "id": "RLlI0gBHXw5u",
        "colab_type": "code",
        "colab": {
          "base_uri": "https://localhost:8080/",
          "height": 68
        },
        "outputId": "12d81bf0-e1dd-41b5-96b5-9eee50c5ca1b"
      },
      "source": [
        "print(\"\\nNo.5\")\n",
        "def get_all_time_max_avg_score(dictionary_list):\n",
        "  test_score_maxx=[]\n",
        "  avg=0\n",
        "  maxx=0\n",
        "  rata=0\n",
        "  for index in dictionary_list:\n",
        "    #print(element)\n",
        "    avg=round(mean(index ['test_scores']),2)\n",
        "    test_score_maxx.append(avg)\n",
        "  \n",
        "  #print(test_score_maxx)\n",
        "  maxx=max(test_score_maxx)\n",
        "  #print(maxx)\n",
        "\n",
        "  for element in dictionary_list:\n",
        "    #print(element)\n",
        "    avg=round(mean(element ['test_scores']),2)\n",
        "    #print(avg)\n",
        "    for atribut in element:\n",
        "      if avg == maxx:\n",
        "        if atribut=='name':\n",
        "          name=element[atribut]\n",
        "        if atribut=='age':\n",
        "          age=element[atribut]\n",
        "        rata=avg\n",
        "      else:\n",
        "        continue\n",
        "\n",
        "\n",
        "\n",
        "  return print(\"Pelajar \",name,\" dengan umur \",age,\" mendapatkan nilai rata-rata terbesar, yaitu\",rata)\n",
        "\n",
        "get_all_time_max_avg_score(array_of_dictionaries)"
      ],
      "execution_count": 56,
      "outputs": [
        {
          "output_type": "stream",
          "text": [
            "\n",
            "No.5\n",
            "Pelajar  Budi  dengan umur  10  mendapatkan nilai rata-rata terbesar, yaitu 95.67\n"
          ],
          "name": "stdout"
        }
      ]
    },
    {
      "cell_type": "code",
      "metadata": {
        "id": "vcP2BrvczrmF",
        "colab_type": "code",
        "colab": {
          "base_uri": "https://localhost:8080/",
          "height": 88
        },
        "outputId": "b81f40fb-0398-47f4-c2ff-a4e4bf4bac91"
      },
      "source": [
        "print(\"\\nNo.6\")\n",
        "def add_student(dictionary_list,student_dictionary):\n",
        "  dictionary_list.append(student_dictionary)\n",
        "  \n",
        "  #cetak= [print(element,\"\\n\") for element in dictionary_list]\n",
        "  #cetak=print(dictionary_list)\n",
        "\n",
        "  return dictionary_list\n",
        "\n",
        "updated_dictionary=add_student(array_of_dictionaries,{ \"name\": \"Doddy\", \"age\": 13, \"test_scores\": [100.0, 100.0, 100.0] })\n",
        "print(updated_dictionary)"
      ],
      "execution_count": 57,
      "outputs": [
        {
          "output_type": "stream",
          "text": [
            "\n",
            "No.6\n",
            "[{'name': 'Budi', 'age': 10, 'test_scores': [100.0, 98.0, 89.0]}, {'name': 'Charlie', 'age': 12, 'test_scores': [90.0, 100.0]}, {'name': 'Doddy', 'age': 13, 'test_scores': [100.0, 100.0, 100.0]}]\n"
          ],
          "name": "stdout"
        }
      ]
    }
  ]
}