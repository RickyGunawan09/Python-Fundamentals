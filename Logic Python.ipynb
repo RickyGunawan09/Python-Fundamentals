{
  "nbformat": 4,
  "nbformat_minor": 0,
  "metadata": {
    "colab": {
      "name": "assignment2.ipynb",
      "provenance": [],
      "collapsed_sections": []
    },
    "kernelspec": {
      "name": "python3",
      "display_name": "Python 3"
    }
  },
  "cells": [
    {
      "cell_type": "code",
      "metadata": {
        "id": "NG3JbVQbvOjx",
        "colab_type": "code",
        "colab": {
          "base_uri": "https://localhost:8080/",
          "height": 561
        },
        "outputId": "1c0e10b0-79ec-4f09-b76f-4933711c25c8"
      },
      "source": [
        "numbers=[]\n",
        "x = range(10)\n",
        "\n",
        "print(\"\\nno.1\")\n",
        "for n in x:\n",
        "    numbers.append(n+1)\n",
        "\n",
        "print(numbers)\n",
        "\n",
        "number=range(len(numbers))\n",
        "\n",
        "print(\"\\nno.2\")\n",
        "for n in number: \n",
        "    numbers[n]+=2\n",
        "\n",
        "print(numbers)\n",
        "\n",
        "print(\"\\nno.3\")\n",
        "for n in number:\n",
        "    if numbers[n]%2!=0:\n",
        "      numbers[n]+=1\n",
        "    #else:\n",
        "     # numbers[n]=numbers[n]\n",
        "\n",
        "print(numbers)\n",
        "\n",
        "print(\"\\nno.4\")\n",
        "a=0\n",
        "numbers.sort()\n",
        "for n in numbers:\n",
        "   if n < 5:\n",
        "      a+=1\n",
        "\n",
        "#print(a)\n",
        "numbers=numbers[a:]\n",
        "print(numbers)\n",
        "\n",
        "''' random.shuffle(numbers)\n",
        "for n in numbers:\n",
        "   if n < 5:\n",
        "      numbers.remove(n)\n",
        "numbers.sort()\n",
        "print(numbers)\n",
        " '''\n",
        "\n",
        "print(\"\\nno.5\")\n",
        "number=range(len(numbers))\n",
        "for n in number:\n",
        "  print(\"Angka ke-\",n,\" bernilai \",numbers[n])\n",
        "\n",
        "\n",
        "print(\"\\nno.6\")\n",
        "for n in number:\n",
        "  if numbers[n]%2==0:\n",
        "    print(\"Angka ke-\",n,\" bernilai \",numbers[n])"
      ],
      "execution_count": 4,
      "outputs": [
        {
          "output_type": "stream",
          "text": [
            "\n",
            "no.1\n",
            "[1, 2, 3, 4, 5, 6, 7, 8, 9, 10]\n",
            "\n",
            "no.2\n",
            "[3, 4, 5, 6, 7, 8, 9, 10, 11, 12]\n",
            "\n",
            "no.3\n",
            "[4, 4, 6, 6, 8, 8, 10, 10, 12, 12]\n",
            "\n",
            "no.4\n",
            "[6, 6, 8, 8, 10, 10, 12, 12]\n",
            "\n",
            "no.5\n",
            "Angka ke- 0  bernilai  6\n",
            "Angka ke- 1  bernilai  6\n",
            "Angka ke- 2  bernilai  8\n",
            "Angka ke- 3  bernilai  8\n",
            "Angka ke- 4  bernilai  10\n",
            "Angka ke- 5  bernilai  10\n",
            "Angka ke- 6  bernilai  12\n",
            "Angka ke- 7  bernilai  12\n",
            "\n",
            "no.6\n",
            "Angka ke- 0  bernilai  6\n",
            "Angka ke- 1  bernilai  6\n",
            "Angka ke- 2  bernilai  8\n",
            "Angka ke- 3  bernilai  8\n",
            "Angka ke- 4  bernilai  10\n",
            "Angka ke- 5  bernilai  10\n",
            "Angka ke- 6  bernilai  12\n",
            "Angka ke- 7  bernilai  12\n"
          ],
          "name": "stdout"
        }
      ]
    }
  ]
}